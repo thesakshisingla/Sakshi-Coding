{
 "cells": [
  {
   "cell_type": "markdown",
   "metadata": {},
   "source": [
    "# NUMPY"
   ]
  },
  {
   "cell_type": "code",
   "execution_count": 2,
   "metadata": {},
   "outputs": [],
   "source": [
    "#import the enumpy library\n",
    "\n",
    "import numpy as np"
   ]
  },
  {
   "cell_type": "markdown",
   "metadata": {},
   "source": [
    "NUMPY ARRAY"
   ]
  },
  {
   "cell_type": "code",
   "execution_count": 11,
   "metadata": {},
   "outputs": [
    {
     "name": "stdout",
     "output_type": "stream",
     "text": [
      "[1 2 3 4]\n",
      "<class 'numpy.ndarray'>\n",
      "(4,)\n",
      "1 2 3\n"
     ]
    },
    {
     "data": {
      "text/plain": [
       "array([1, 5, 3, 4])"
      ]
     },
     "execution_count": 11,
     "metadata": {},
     "output_type": "execute_result"
    }
   ],
   "source": [
    "#1D array\n",
    "\n",
    "arr=np.array([1,2,3,4])\n",
    "print(arr)\n",
    "\n",
    "print(type(arr))\n",
    "\n",
    "#to know the dimesnion of array \n",
    "print(arr.shape)\n",
    "\n",
    "print(arr[0],arr[1],arr[2])\n",
    "\n",
    "#replace value \n",
    "arr[1]=5\n",
    "print(arr)"
   ]
  },
  {
   "cell_type": "code",
   "execution_count": 24,
   "metadata": {},
   "outputs": [
    {
     "name": "stdout",
     "output_type": "stream",
     "text": [
      "[[1 2 3 4]\n",
      " [5 6 7 8]]\n",
      "2\n",
      "8\n",
      "<memory at 0x000001569F4AAAD0>\n"
     ]
    }
   ],
   "source": [
    "#2D ARRAY\n",
    "\n",
    "arr1=np.array([[1,2,3,4],[5,6,7,8]])\n",
    "print(arr1)\n",
    "\n",
    "#to know the dimension\n",
    "print(arr1.ndim)\n",
    "\n",
    "print(arr1.size)\n",
    "\n",
    "#location of array\n",
    "print(arr1.data)"
   ]
  },
  {
   "cell_type": "code",
   "execution_count": 23,
   "metadata": {},
   "outputs": [
    {
     "name": "stdout",
     "output_type": "stream",
     "text": [
      "[[0. 0.]\n",
      " [0. 0.]]\n",
      "[[1. 1.]\n",
      " [1. 1.]]\n",
      "[[5 5]\n",
      " [5 5]]\n"
     ]
    }
   ],
   "source": [
    "#numpy provides many functions to create array\n",
    "a=np.zeros((2,2))\n",
    "print(a)\n",
    "\n",
    "a=np.ones((2,2))\n",
    "print(a)\n",
    "\n",
    "c=np.full((2,2),5)\n",
    "print(c)\n"
   ]
  },
  {
   "cell_type": "code",
   "execution_count": 28,
   "metadata": {},
   "outputs": [
    {
     "data": {
      "text/plain": [
       "array([[1., 0., 0.],\n",
       "       [0., 1., 0.],\n",
       "       [0., 0., 1.]])"
      ]
     },
     "execution_count": 28,
     "metadata": {},
     "output_type": "execute_result"
    }
   ],
   "source": [
    "#identity matrix\n",
    "d=np.eye(3)\n",
    "d"
   ]
  },
  {
   "cell_type": "code",
   "execution_count": 27,
   "metadata": {},
   "outputs": [
    {
     "data": {
      "text/plain": [
       "array([[0.55039045, 0.71237751],\n",
       "       [0.43248877, 0.73429045]])"
      ]
     },
     "execution_count": 27,
     "metadata": {},
     "output_type": "execute_result"
    }
   ],
   "source": [
    "#create array with random values\n",
    "e=np.random.random((2,2))\n",
    "e"
   ]
  },
  {
   "cell_type": "markdown",
   "metadata": {},
   "source": [
    "# ARRAY INDEXING"
   ]
  },
  {
   "cell_type": "code",
   "execution_count": 53,
   "metadata": {},
   "outputs": [
    {
     "name": "stdout",
     "output_type": "stream",
     "text": [
      "519\n",
      "[0.49201605 0.73150955]\n",
      "[[294 750]\n",
      " [329 436]]\n"
     ]
    }
   ],
   "source": [
    "from numpy import random as r\n",
    "x=r.randint(1000)\n",
    "print(x)\n",
    "\n",
    "y=r.rand(2)\n",
    "print(y)\n",
    "\n",
    "p=r.randint(1000,size=(2,2))\n",
    "r.seed(101) #put some value here so that it remains same everytime\n",
    "print(p)"
   ]
  },
  {
   "cell_type": "code",
   "execution_count": 54,
   "metadata": {},
   "outputs": [
    {
     "data": {
      "text/plain": [
       "array([[ 1,  2,  3,  4],\n",
       "       [ 5,  6,  7,  8],\n",
       "       [ 9, 10, 11, 12]])"
      ]
     },
     "execution_count": 54,
     "metadata": {},
     "output_type": "execute_result"
    }
   ],
   "source": [
    "#3D ARRAY\n",
    "\n",
    "a = np.array([[1,2,3,4],[5,6,7,8],[9,10,11,12]])\n",
    "a"
   ]
  },
  {
   "cell_type": "code",
   "execution_count": null,
   "metadata": {},
   "outputs": [],
   "source": []
  },
  {
   "cell_type": "markdown",
   "metadata": {},
   "source": [
    "# ARRAY MATH"
   ]
  },
  {
   "cell_type": "code",
   "execution_count": 62,
   "metadata": {},
   "outputs": [
    {
     "name": "stdout",
     "output_type": "stream",
     "text": [
      "[[ 6  8]\n",
      " [10 12]]\n",
      "[[ 6  8]\n",
      " [10 12]]\n",
      "[[-4 -4]\n",
      " [-4 -4]]\n",
      "[[-4 -4]\n",
      " [-4 -4]]\n",
      "[[ 5 12]\n",
      " [21 32]]\n",
      "[[ 5 12]\n",
      " [21 32]]\n",
      "[[0.2        0.33333333]\n",
      " [0.42857143 0.5       ]]\n",
      "[[0.2        0.33333333]\n",
      " [0.42857143 0.5       ]]\n",
      "[[1.         1.41421356]\n",
      " [1.73205081 2.        ]]\n"
     ]
    }
   ],
   "source": [
    "x = np.array([[1,2],[3,4]])\n",
    "y=np.array([[5,6],[7,8]])\n",
    "\n",
    "print(x+y)\n",
    "print(np.add(x,y))\n",
    "\n",
    "print(x-y)\n",
    "print(np.subtract(x,y))\n",
    "\n",
    "print(x*y)\n",
    "print(np.multiply(x,y))\n",
    "\n",
    "print(x/y)\n",
    "print(np.divide(x,y))\n",
    "\n",
    "print(np.sqrt(x))\n"
   ]
  },
  {
   "cell_type": "code",
   "execution_count": 64,
   "metadata": {},
   "outputs": [
    {
     "name": "stdout",
     "output_type": "stream",
     "text": [
      "10\n"
     ]
    },
    {
     "data": {
      "text/plain": [
       "array([[1, 2],\n",
       "       [3, 4]])"
      ]
     },
     "execution_count": 64,
     "metadata": {},
     "output_type": "execute_result"
    }
   ],
   "source": [
    "print(np.sum(x))\n",
    "x"
   ]
  },
  {
   "cell_type": "code",
   "execution_count": 66,
   "metadata": {},
   "outputs": [
    {
     "name": "stdout",
     "output_type": "stream",
     "text": [
      "[4 6]\n",
      "[3 7]\n"
     ]
    }
   ],
   "source": [
    "print(np.sum(x,axis=0)) #colums addition\n",
    "\n",
    "print(np.sum(x,axis=1)) #rows addition\n",
    "\n"
   ]
  },
  {
   "cell_type": "code",
   "execution_count": 69,
   "metadata": {},
   "outputs": [
    {
     "name": "stdout",
     "output_type": "stream",
     "text": [
      "[[1 3]\n",
      " [2 4]]\n",
      "[[5 7]\n",
      " [6 8]]\n"
     ]
    }
   ],
   "source": [
    "#transpose\n",
    "\n",
    "print(x.T)\n",
    "\n",
    "print(y.T)\n"
   ]
  },
  {
   "cell_type": "code",
   "execution_count": 80,
   "metadata": {},
   "outputs": [
    {
     "name": "stdout",
     "output_type": "stream",
     "text": [
      "[1.4945 1.372  1.519  1.5925 1.568  1.5435 1.519  1.519  1.7885 1.8375\n",
      " 1.96  ]\n",
      "[45.   46.8  54.   58.5  63.   65.25 47.7  48.6  49.5  53.55 60.75]\n"
     ]
    },
    {
     "data": {
      "text/plain": [
       "array([20.1474773 , 24.86208978, 23.40335994, 23.0673117 , 25.62408892,\n",
       "       27.38843698, 20.67296795, 21.06302395, 15.47488071, 15.86005831,\n",
       "       15.81372345])"
      ]
     },
     "execution_count": 80,
     "metadata": {},
     "output_type": "execute_result"
    }
   ],
   "source": [
    "#calculate the BMI of cricket player\n",
    "\n",
    "#heights of players in inches\n",
    "height_in = [61,56,62,65,64,63,62,62,73,75,80]\n",
    "\n",
    "#convert in to numpyarray\n",
    "\n",
    "ht_np=np.array(height_in)\n",
    "ht_np = ht_np * 0.0245 #converting into meters\n",
    "print(ht_np)\n",
    "\n",
    "\n",
    "#weights of players\n",
    "weight_pd = [100,104,120,130,140,145,106,108,110,119,135]\n",
    "\n",
    "#convert into numpyarray\n",
    "wt_np=np.array(weight_pd)\n",
    "\n",
    "wt_np=wt_np * 0.45          #converting into kgs    \n",
    "print(wt_np)\n",
    "\n",
    "\n",
    "\n",
    "#calculating BMI\n",
    "\n",
    "bmi=wt_np/ht_np**2\n",
    "bmi"
   ]
  },
  {
   "cell_type": "code",
   "execution_count": 81,
   "metadata": {},
   "outputs": [
    {
     "data": {
      "text/plain": [
       "15.8137234485631"
      ]
     },
     "execution_count": 81,
     "metadata": {},
     "output_type": "execute_result"
    }
   ],
   "source": [
    "bmi[-1]"
   ]
  },
  {
   "cell_type": "code",
   "execution_count": 82,
   "metadata": {},
   "outputs": [
    {
     "data": {
      "text/plain": [
       "array([20.1474773 , 20.67296795, 15.47488071, 15.86005831, 15.81372345])"
      ]
     },
     "execution_count": 82,
     "metadata": {},
     "output_type": "execute_result"
    }
   ],
   "source": [
    "bmi[bmi<21]"
   ]
  },
  {
   "cell_type": "code",
   "execution_count": 88,
   "metadata": {},
   "outputs": [
    {
     "name": "stdout",
     "output_type": "stream",
     "text": [
      "[[45.     46.8    54.     58.5    63.     65.25   47.7    48.6    49.5\n",
      "  53.55   60.75  ]\n",
      " [ 1.4945  1.372   1.519   1.5925  1.568   1.5435  1.519   1.519   1.7885\n",
      "   1.8375  1.96  ]]\n",
      "(2, 11)\n"
     ]
    },
    {
     "data": {
      "text/plain": [
       "(11, 2)"
      ]
     },
     "execution_count": 88,
     "metadata": {},
     "output_type": "execute_result"
    }
   ],
   "source": [
    "#make one array with heights and weights\n",
    "\n",
    "players=np.array([wt_np,ht_np])\n",
    "print(players)\n",
    "print(players.shape)\n",
    "\n",
    "pT=players.T\n",
    "pT.shape"
   ]
  },
  {
   "cell_type": "code",
   "execution_count": 89,
   "metadata": {},
   "outputs": [
    {
     "data": {
      "text/plain": [
       "array([[2.71828183e+00, 7.38905610e+00, 2.00855369e+01, 5.45981500e+01],\n",
       "       [1.48413159e+02, 4.03428793e+02, 1.09663316e+03, 2.98095799e+03],\n",
       "       [8.10308393e+03, 2.20264658e+04, 5.98741417e+04, 1.62754791e+05]])"
      ]
     },
     "execution_count": 89,
     "metadata": {},
     "output_type": "execute_result"
    }
   ],
   "source": [
    "np.exp(a)"
   ]
  },
  {
   "cell_type": "markdown",
   "metadata": {},
   "source": [
    "STATISTICAL FUNCION"
   ]
  },
  {
   "cell_type": "code",
   "execution_count": 92,
   "metadata": {},
   "outputs": [
    {
     "name": "stdout",
     "output_type": "stream",
     "text": [
      "1.6103181818181818\n",
      "1.5435\n",
      "17.7135\n",
      "0.16717903749726634\n",
      "[[1.         0.32982522]\n",
      " [0.32982522 1.        ]]\n",
      "1.96\n",
      "1.372\n"
     ]
    }
   ],
   "source": [
    "print(np.mean(ht_np))\n",
    "print(np.median(ht_np))\n",
    "print(np.sum(ht_np))\n",
    "print(np.std(ht_np))\n",
    "print(np.corrcoef(ht_np,wt_np)) #2 arguments required\n",
    "print(np.amax(ht_np))\n",
    "print(np.amin(ht_np))\n"
   ]
  },
  {
   "cell_type": "code",
   "execution_count": 104,
   "metadata": {},
   "outputs": [
    {
     "name": "stdout",
     "output_type": "stream",
     "text": [
      "[False  True  True  True False]\n",
      "['bob' 'joe' 'bob' 'scott' 'bob']\n"
     ]
    },
    {
     "data": {
      "text/plain": [
       "array(['bob', 'joe', 'scott'], dtype='<U5')"
      ]
     },
     "execution_count": 104,
     "metadata": {},
     "output_type": "execute_result"
    }
   ],
   "source": [
    "#boolean\n",
    "\n",
    "bools=[False,True,True,True,False]\n",
    "b=np.array(bools)\n",
    "print(b)\n",
    "\n",
    "b.sum() #true=1 false=0\n",
    "\n",
    "b.any() #gives if there is any value true in the array\n",
    "\n",
    "names=np.array(['bob','joe','bob','scott','bob'])\n",
    "print(names)\n",
    "np.unique(names)\n",
    "\n",
    "\n"
   ]
  }
 ],
 "metadata": {
  "kernelspec": {
   "display_name": "Python 3",
   "language": "python",
   "name": "python3"
  },
  "language_info": {
   "codemirror_mode": {
    "name": "ipython",
    "version": 3
   },
   "file_extension": ".py",
   "mimetype": "text/x-python",
   "name": "python",
   "nbconvert_exporter": "python",
   "pygments_lexer": "ipython3",
   "version": "3.8.5"
  }
 },
 "nbformat": 4,
 "nbformat_minor": 4
}
